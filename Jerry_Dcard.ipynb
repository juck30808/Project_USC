{
 "cells": [
  {
   "cell_type": "markdown",
   "metadata": {},
   "source": [
    "根據把首頁往下滑，發現網站會對server送一個GET請求下一個30篇文章\n",
    "- 2018(G) https://ithelp.ithome.com.tw/articles/10203216\n",
    "- 2019(G) https://tlyu0419.github.io/2019/04/06/Crawl-Dcard/\n",
    "- 2020 https://blog.jiatool.com/posts/dcard_api_v2/"
   ]
  },
  {
   "cell_type": "markdown",
   "metadata": {},
   "source": [
    "### API root\n",
    "\n",
    "- 看板資訊 http://dcard.tw/_api/forums\n",
    "- 文章資訊 http://dcard.tw/_api/forums/{看板名稱}/posts\n",
    "- 文章內文\thttp://dcard.tw/_api/posts/{文章編號}\n",
    "- 文章內引用連結\thttp://dcard.tw/_api/posts/{文章編號}/links\n",
    "- 文章內留言\thttp://dcard.tw/_api/posts/{文章編號}/comments\n",
    "\n",
    "### API wirte\n",
    "- 文章數量 https://www.dcard.tw/_api/posts?limit=100\n",
    "- 文章分頁 http://dcard.tw/_api/posts/?before=文章id (before 回傳由新到舊 after舊到新)\n",
    "- 文章留言 http://dcard.tw/_api/posts/文章id/comments\n",
    "- 留言分頁 http://dcard.tw/_api/posts/文章id/comments?after=floor數字\n",
    "- 熱門文章 https://dcard.tw/_api/posts?popular=true\n",
    "\n",
    "### others\n",
    "文章資訊(meta) 與 文章內留言 預設使用熱門度 (popularity) 作為排序，而且一次請求 (request) 中只回應 30 筆。\n",
    "* 想要讓這兩項使用 時間 排序，可在 GET 參數中加入 popular=false\n",
    "* 欲取得更多的 文章資訊(meta)，可以使用 before={某文章編號}來獲得早於 #{某文章編號} 的另外 30 筆 資訊。\n",
    "* 欲取得更多的 文章內留言，可以使用 after={某樓層} 來獲得大於 #{某樓層} 的另外 30 筆 留言。"
   ]
  },
  {
   "cell_type": "code",
   "execution_count": 3,
   "metadata": {},
   "outputs": [],
   "source": [
    "import requests\n",
    "import json\n",
    "import pandas as pd    # 引用套件並縮寫為 pd\n",
    "from bs4 import BeautifulSoup\n",
    "# https://www.dcard.tw/f/makeup"
   ]
  },
  {
   "cell_type": "markdown",
   "metadata": {},
   "source": [
    "GET 美妝版首頁，Use BeautifulSoup with html, wrtie a txt\n",
    "\n",
    " "
   ]
  },
  {
   "cell_type": "code",
   "execution_count": 10,
   "metadata": {
    "scrolled": false
   },
   "outputs": [
    {
     "data": {
      "text/plain": [
       "[]"
      ]
     },
     "execution_count": 10,
     "metadata": {},
     "output_type": "execute_result"
    }
   ],
   "source": [
    "p = requests.Session()                             # 把這一次的request都算在同一個session裡\n",
    "url=requests.get(\"https://www.dcard.tw/f/makeup\")  # 請求的網址\n",
    "soup = BeautifulSoup(url.text,\"html.parser\")\n",
    "sel = soup.select(\"h2.tgn9uw-2 a\")\n",
    "sel\n",
    "\n",
    "#for link in sel:\n",
    "#    a.append(link[\"href\"])\n",
    "    #print('https://www.dcard.tw'+link.get('href'))"
   ]
  },
  {
   "cell_type": "code",
   "execution_count": 5,
   "metadata": {},
   "outputs": [],
   "source": [
    "# slope the title\n",
    "def Catch(num):\n",
    "    try:\n",
    "        url = 'https://www.dcard.tw/_api/posts/'+str(num)  #api post with ID\n",
    "        resq = requests.get(url)\n",
    "        rejs = resq.json()\n",
    "        return(pd.DataFrame(\n",
    "            data=\n",
    "            [{'id':rejs['id'],\n",
    "              'title':rejs['title'],\n",
    "              'content':rejs['content'],\n",
    "              'excerpt':rejs['excerpt'],\n",
    "              'createdAt':rejs['createdAt'],\n",
    "              'updatedAt': rejs['updatedAt' ],\n",
    "              'forumName':rejs['forumName'],\n",
    "              'forumAlias':rejs['forumAlias'],\n",
    "              'gender':rejs['gender'],\n",
    "              'topics':rejs['topics']}],\n",
    "            columns=['id', 'title', 'content', 'excerpt', 'createdAt', \n",
    "                     'updatedAt', 'forumName', 'forumAlias','gender', 'topics '])\n",
    "              )\n",
    "    except:\n",
    "        print('data error...',i,'J:',j)\n",
    "        return(pd.DataFrame(\n",
    "            data=\n",
    "            [{'id':\"\",\n",
    "              'title':\"\",\n",
    "              'content':\"\",\n",
    "              'excerpt':\"\",\n",
    "              'createdAt':\"\",\n",
    "              'updatedAt': \"\",\n",
    "              'forumName':\"\",\n",
    "              'forumAlias':\"\",\n",
    "              'gender':\"\",\n",
    "              'topics':\"\"}],\n",
    "            columns=['id', 'title', 'content', 'excerpt', 'createdAt', \n",
    "                     'updatedAt', 'forumName', 'forumAlias','gender', 'topics '])\n",
    "              )"
   ]
  },
  {
   "cell_type": "code",
   "execution_count": 6,
   "metadata": {},
   "outputs": [],
   "source": [
    "# KeyError: 'id'\n",
    "# Oh！文章不見了 這篇文章已被作者刪除。 按這裡 看更多文章吧\n",
    "# https://www.dcard.tw/f/makeup/p/235079399\n",
    "# Catch(235079399)\n",
    "# url = \"https://www.dcard.tw/_api/forums/makeup/posts?popular=false&limit=100&before=233254532\" "
   ]
  },
  {
   "cell_type": "code",
   "execution_count": 7,
   "metadata": {},
   "outputs": [
    {
     "ename": "JSONDecodeError",
     "evalue": "Expecting value: line 1 column 1 (char 0)",
     "output_type": "error",
     "traceback": [
      "\u001b[0;31m---------------------------------------------------------------------------\u001b[0m",
      "\u001b[0;31mJSONDecodeError\u001b[0m                           Traceback (most recent call last)",
      "\u001b[0;32m<ipython-input-7-bf4137ac3b48>\u001b[0m in \u001b[0;36m<module>\u001b[0;34m\u001b[0m\n\u001b[1;32m      1\u001b[0m \u001b[0;31m#url = \"http://dcard.tw/_api/forums/makeup/posts?popular=false&limit=1\"\u001b[0m\u001b[0;34m\u001b[0m\u001b[0;34m\u001b[0m\u001b[0;34m\u001b[0m\u001b[0m\n\u001b[1;32m      2\u001b[0m \u001b[0murl\u001b[0m \u001b[0;34m=\u001b[0m \u001b[0;34m\"https://www.dcard.tw/_api/forums/makeup/posts?popular=false&limit=100&before=229872382\"\u001b[0m\u001b[0;34m\u001b[0m\u001b[0;34m\u001b[0m\u001b[0m\n\u001b[0;32m----> 3\u001b[0;31m \u001b[0mresq\u001b[0m \u001b[0;34m=\u001b[0m \u001b[0mrequests\u001b[0m\u001b[0;34m.\u001b[0m\u001b[0mget\u001b[0m\u001b[0;34m(\u001b[0m\u001b[0murl\u001b[0m\u001b[0;34m)\u001b[0m\u001b[0;34m.\u001b[0m\u001b[0mjson\u001b[0m\u001b[0;34m(\u001b[0m\u001b[0;34m)\u001b[0m\u001b[0;34m\u001b[0m\u001b[0;34m\u001b[0m\u001b[0m\n\u001b[0m\u001b[1;32m      4\u001b[0m \u001b[0mresq\u001b[0m\u001b[0;34m\u001b[0m\u001b[0;34m\u001b[0m\u001b[0m\n",
      "\u001b[0;32m~/opt/anaconda3/lib/python3.8/site-packages/requests/models.py\u001b[0m in \u001b[0;36mjson\u001b[0;34m(self, **kwargs)\u001b[0m\n\u001b[1;32m    896\u001b[0m                     \u001b[0;31m# used.\u001b[0m\u001b[0;34m\u001b[0m\u001b[0;34m\u001b[0m\u001b[0;34m\u001b[0m\u001b[0m\n\u001b[1;32m    897\u001b[0m                     \u001b[0;32mpass\u001b[0m\u001b[0;34m\u001b[0m\u001b[0;34m\u001b[0m\u001b[0m\n\u001b[0;32m--> 898\u001b[0;31m         \u001b[0;32mreturn\u001b[0m \u001b[0mcomplexjson\u001b[0m\u001b[0;34m.\u001b[0m\u001b[0mloads\u001b[0m\u001b[0;34m(\u001b[0m\u001b[0mself\u001b[0m\u001b[0;34m.\u001b[0m\u001b[0mtext\u001b[0m\u001b[0;34m,\u001b[0m \u001b[0;34m**\u001b[0m\u001b[0mkwargs\u001b[0m\u001b[0;34m)\u001b[0m\u001b[0;34m\u001b[0m\u001b[0;34m\u001b[0m\u001b[0m\n\u001b[0m\u001b[1;32m    899\u001b[0m \u001b[0;34m\u001b[0m\u001b[0m\n\u001b[1;32m    900\u001b[0m     \u001b[0;34m@\u001b[0m\u001b[0mproperty\u001b[0m\u001b[0;34m\u001b[0m\u001b[0;34m\u001b[0m\u001b[0m\n",
      "\u001b[0;32m~/opt/anaconda3/lib/python3.8/json/__init__.py\u001b[0m in \u001b[0;36mloads\u001b[0;34m(s, cls, object_hook, parse_float, parse_int, parse_constant, object_pairs_hook, **kw)\u001b[0m\n\u001b[1;32m    355\u001b[0m             \u001b[0mparse_int\u001b[0m \u001b[0;32mis\u001b[0m \u001b[0;32mNone\u001b[0m \u001b[0;32mand\u001b[0m \u001b[0mparse_float\u001b[0m \u001b[0;32mis\u001b[0m \u001b[0;32mNone\u001b[0m \u001b[0;32mand\u001b[0m\u001b[0;34m\u001b[0m\u001b[0;34m\u001b[0m\u001b[0m\n\u001b[1;32m    356\u001b[0m             parse_constant is None and object_pairs_hook is None and not kw):\n\u001b[0;32m--> 357\u001b[0;31m         \u001b[0;32mreturn\u001b[0m \u001b[0m_default_decoder\u001b[0m\u001b[0;34m.\u001b[0m\u001b[0mdecode\u001b[0m\u001b[0;34m(\u001b[0m\u001b[0ms\u001b[0m\u001b[0;34m)\u001b[0m\u001b[0;34m\u001b[0m\u001b[0;34m\u001b[0m\u001b[0m\n\u001b[0m\u001b[1;32m    358\u001b[0m     \u001b[0;32mif\u001b[0m \u001b[0mcls\u001b[0m \u001b[0;32mis\u001b[0m \u001b[0;32mNone\u001b[0m\u001b[0;34m:\u001b[0m\u001b[0;34m\u001b[0m\u001b[0;34m\u001b[0m\u001b[0m\n\u001b[1;32m    359\u001b[0m         \u001b[0mcls\u001b[0m \u001b[0;34m=\u001b[0m \u001b[0mJSONDecoder\u001b[0m\u001b[0;34m\u001b[0m\u001b[0;34m\u001b[0m\u001b[0m\n",
      "\u001b[0;32m~/opt/anaconda3/lib/python3.8/json/decoder.py\u001b[0m in \u001b[0;36mdecode\u001b[0;34m(self, s, _w)\u001b[0m\n\u001b[1;32m    335\u001b[0m \u001b[0;34m\u001b[0m\u001b[0m\n\u001b[1;32m    336\u001b[0m         \"\"\"\n\u001b[0;32m--> 337\u001b[0;31m         \u001b[0mobj\u001b[0m\u001b[0;34m,\u001b[0m \u001b[0mend\u001b[0m \u001b[0;34m=\u001b[0m \u001b[0mself\u001b[0m\u001b[0;34m.\u001b[0m\u001b[0mraw_decode\u001b[0m\u001b[0;34m(\u001b[0m\u001b[0ms\u001b[0m\u001b[0;34m,\u001b[0m \u001b[0midx\u001b[0m\u001b[0;34m=\u001b[0m\u001b[0m_w\u001b[0m\u001b[0;34m(\u001b[0m\u001b[0ms\u001b[0m\u001b[0;34m,\u001b[0m \u001b[0;36m0\u001b[0m\u001b[0;34m)\u001b[0m\u001b[0;34m.\u001b[0m\u001b[0mend\u001b[0m\u001b[0;34m(\u001b[0m\u001b[0;34m)\u001b[0m\u001b[0;34m)\u001b[0m\u001b[0;34m\u001b[0m\u001b[0;34m\u001b[0m\u001b[0m\n\u001b[0m\u001b[1;32m    338\u001b[0m         \u001b[0mend\u001b[0m \u001b[0;34m=\u001b[0m \u001b[0m_w\u001b[0m\u001b[0;34m(\u001b[0m\u001b[0ms\u001b[0m\u001b[0;34m,\u001b[0m \u001b[0mend\u001b[0m\u001b[0;34m)\u001b[0m\u001b[0;34m.\u001b[0m\u001b[0mend\u001b[0m\u001b[0;34m(\u001b[0m\u001b[0;34m)\u001b[0m\u001b[0;34m\u001b[0m\u001b[0;34m\u001b[0m\u001b[0m\n\u001b[1;32m    339\u001b[0m         \u001b[0;32mif\u001b[0m \u001b[0mend\u001b[0m \u001b[0;34m!=\u001b[0m \u001b[0mlen\u001b[0m\u001b[0;34m(\u001b[0m\u001b[0ms\u001b[0m\u001b[0;34m)\u001b[0m\u001b[0;34m:\u001b[0m\u001b[0;34m\u001b[0m\u001b[0;34m\u001b[0m\u001b[0m\n",
      "\u001b[0;32m~/opt/anaconda3/lib/python3.8/json/decoder.py\u001b[0m in \u001b[0;36mraw_decode\u001b[0;34m(self, s, idx)\u001b[0m\n\u001b[1;32m    353\u001b[0m             \u001b[0mobj\u001b[0m\u001b[0;34m,\u001b[0m \u001b[0mend\u001b[0m \u001b[0;34m=\u001b[0m \u001b[0mself\u001b[0m\u001b[0;34m.\u001b[0m\u001b[0mscan_once\u001b[0m\u001b[0;34m(\u001b[0m\u001b[0ms\u001b[0m\u001b[0;34m,\u001b[0m \u001b[0midx\u001b[0m\u001b[0;34m)\u001b[0m\u001b[0;34m\u001b[0m\u001b[0;34m\u001b[0m\u001b[0m\n\u001b[1;32m    354\u001b[0m         \u001b[0;32mexcept\u001b[0m \u001b[0mStopIteration\u001b[0m \u001b[0;32mas\u001b[0m \u001b[0merr\u001b[0m\u001b[0;34m:\u001b[0m\u001b[0;34m\u001b[0m\u001b[0;34m\u001b[0m\u001b[0m\n\u001b[0;32m--> 355\u001b[0;31m             \u001b[0;32mraise\u001b[0m \u001b[0mJSONDecodeError\u001b[0m\u001b[0;34m(\u001b[0m\u001b[0;34m\"Expecting value\"\u001b[0m\u001b[0;34m,\u001b[0m \u001b[0ms\u001b[0m\u001b[0;34m,\u001b[0m \u001b[0merr\u001b[0m\u001b[0;34m.\u001b[0m\u001b[0mvalue\u001b[0m\u001b[0;34m)\u001b[0m \u001b[0;32mfrom\u001b[0m \u001b[0;32mNone\u001b[0m\u001b[0;34m\u001b[0m\u001b[0;34m\u001b[0m\u001b[0m\n\u001b[0m\u001b[1;32m    356\u001b[0m         \u001b[0;32mreturn\u001b[0m \u001b[0mobj\u001b[0m\u001b[0;34m,\u001b[0m \u001b[0mend\u001b[0m\u001b[0;34m\u001b[0m\u001b[0;34m\u001b[0m\u001b[0m\n",
      "\u001b[0;31mJSONDecodeError\u001b[0m: Expecting value: line 1 column 1 (char 0)"
     ]
    }
   ],
   "source": [
    "#url = \"http://dcard.tw/_api/forums/makeup/posts?popular=false&limit=1\"\n",
    "url = \"https://www.dcard.tw/_api/forums/makeup/posts?popular=false&limit=100&before=229872382\" \n",
    "resq = requests.get(url).json()\n",
    "resq"
   ]
  },
  {
   "cell_type": "code",
   "execution_count": 2,
   "metadata": {},
   "outputs": [
    {
     "ename": "NameError",
     "evalue": "name 'requests' is not defined",
     "output_type": "error",
     "traceback": [
      "\u001b[0;31m---------------------------------------------------------------------------\u001b[0m",
      "\u001b[0;31mNameError\u001b[0m                                 Traceback (most recent call last)",
      "\u001b[0;32m<ipython-input-2-3f3ab4390423>\u001b[0m in \u001b[0;36m<module>\u001b[0;34m\u001b[0m\n\u001b[1;32m      4\u001b[0m \u001b[0;31m#url = \"http://dcard.tw/_api/forums/makeup/posts?popular=false&limit=1\"\u001b[0m\u001b[0;34m\u001b[0m\u001b[0;34m\u001b[0m\u001b[0;34m\u001b[0m\u001b[0m\n\u001b[1;32m      5\u001b[0m \u001b[0murl\u001b[0m \u001b[0;34m=\u001b[0m \u001b[0;34m\"https://www.dcard.tw/_api/forums/makeup/posts?popular=false&limit=100&before=229872382\"\u001b[0m\u001b[0;34m\u001b[0m\u001b[0;34m\u001b[0m\u001b[0m\n\u001b[0;32m----> 6\u001b[0;31m \u001b[0mresq\u001b[0m \u001b[0;34m=\u001b[0m \u001b[0mrequests\u001b[0m\u001b[0;34m.\u001b[0m\u001b[0mget\u001b[0m\u001b[0;34m(\u001b[0m\u001b[0murl\u001b[0m\u001b[0;34m)\u001b[0m\u001b[0;34m\u001b[0m\u001b[0;34m\u001b[0m\u001b[0m\n\u001b[0m\u001b[1;32m      7\u001b[0m \u001b[0mrejs\u001b[0m \u001b[0;34m=\u001b[0m \u001b[0mresq\u001b[0m\u001b[0;34m.\u001b[0m\u001b[0mjson\u001b[0m\u001b[0;34m(\u001b[0m\u001b[0;34m)\u001b[0m\u001b[0;34m\u001b[0m\u001b[0;34m\u001b[0m\u001b[0m\n\u001b[1;32m      8\u001b[0m \u001b[0mdf\u001b[0m \u001b[0;34m=\u001b[0m \u001b[0mpd\u001b[0m\u001b[0;34m.\u001b[0m\u001b[0mDataFrame\u001b[0m\u001b[0;34m(\u001b[0m\u001b[0;34m)\u001b[0m\u001b[0;34m\u001b[0m\u001b[0;34m\u001b[0m\u001b[0m\n",
      "\u001b[0;31mNameError\u001b[0m: name 'requests' is not defined"
     ]
    }
   ],
   "source": [
    "import random\n",
    "import time\n",
    "\n",
    "#url = \"http://dcard.tw/_api/forums/makeup/posts?popular=false&limit=1\"\n",
    "url = \"https://www.dcard.tw/_api/forums/makeup/posts?popular=false&limit=100&before=229872382\" \n",
    "resq = requests.get(url)\n",
    "rejs = resq.json()\n",
    "df = pd.DataFrame()\n",
    "df = df.append(Catch(rejs[0]['id']),ignore_index=True) \n",
    "#df"
   ]
  },
  {
   "cell_type": "code",
   "execution_count": null,
   "metadata": {
    "scrolled": true
   },
   "outputs": [],
   "source": [
    "count = 0\n",
    "delay_choices = [13,25,28,32]  # delay second\n",
    "delay = random.choice(delay_choices) \n",
    "\n",
    "for j in range(300):\n",
    "    last = str(int(df['id'].tail(1))) # 找出爬出資料的最後一筆ID\n",
    "    print(last)\n",
    "    url = \"https://www.dcard.tw/_api/forums/makeup/posts?popular=false&limit=100&before=\" + last\n",
    "    resq = requests.get(url)\n",
    "    rejs = resq.json()\n",
    "    delay = random.choice(delay_choices)\n",
    "    time.sleep(delay)  \n",
    "    for i in range(len(rejs)):\n",
    "        df = df.append(Catch(rejs[i]['id']), ignore_index=True)\n",
    "        count = count+1\n",
    "        print('data reading...',count,'id:',rejs[i]['id'],rejs[i]['title'])\n",
    "    df.to_csv(str(j) + '_Dcard.csv', index=False)\n",
    "    \n",
    "df.to_csv('data/Dcard_makeup.csv', index=False) #encoding = \"UTF-8\"\n",
    "print(df.shape)\n",
    "df\n"
   ]
  },
  {
   "cell_type": "code",
   "execution_count": null,
   "metadata": {},
   "outputs": [],
   "source": [
    "import random\n",
    "import time\n",
    "\n",
    "count = 0\n",
    "delay_choices = [3,7,5]  # delay second\n",
    "delay = random.choice(delay_choices) \n",
    "\n",
    "for j in range(5):\n",
    "    print('data reading...',j,delay)\n",
    "    delay = random.choice(delay_choices)\n",
    "    time.sleep(delay)  "
   ]
  },
  {
   "cell_type": "markdown",
   "metadata": {},
   "source": [
    "# ---------------正式版本分隔線---------------\n",
    "- 測試版本代號：1.2  2020\n",
    "- 正式版本代號：2.03  2021\n",
    "- 開發人員： EGG Jerry Three\n"
   ]
  },
  {
   "cell_type": "markdown",
   "metadata": {},
   "source": [
    "dva.x_x 版本開發"
   ]
  },
  {
   "cell_type": "code",
   "execution_count": null,
   "metadata": {
    "scrolled": true
   },
   "outputs": [],
   "source": [
    "#找到 dav.x_x 發表過的文章\n",
    "\n",
    "p = requests.Session()                             # 把這一次的request都算在同一個session裡\n",
    "url=requests.get(\"https://www.dcard.tw/@dva.x_x\")  # 請求的網址\n",
    "soup = BeautifulSoup(url.text,\"html.parser\")\n",
    "sel = soup.select(\"h2.tgn9uw-2 a\")\n",
    "sel\n",
    "a=[]\n",
    "for link in sel:\n",
    "    a.append(link[\"href\"])\n",
    "    print(link.get('href')[-9:])\n",
    "    print('https://www.dcard.tw'+link.get('href'))"
   ]
  },
  {
   "cell_type": "code",
   "execution_count": null,
   "metadata": {},
   "outputs": [],
   "source": [
    "# slope the title\n",
    "def CatchUser(num):\n",
    "    try:\n",
    "        url = 'https://www.dcard.tw/_api/posts/'+str(num)  #api post with ID\n",
    "        resq = requests.get(url)\n",
    "        rejs = resq.json()\n",
    "        return(pd.DataFrame(\n",
    "            data=\n",
    "            [{'id':rejs['id'],\n",
    "              'department':rejs['department'],  #for author\n",
    "              'title':rejs['title'],\n",
    "              'content':rejs['content'],\n",
    "              'excerpt':rejs['excerpt'],\n",
    "              'createdAt':rejs['createdAt'],\n",
    "              'updatedAt': rejs['updatedAt' ],\n",
    "              'forumName':rejs['forumName'],\n",
    "              'forumAlias':rejs['forumAlias'],\n",
    "              'gender':rejs['gender'],\n",
    "              'topics':rejs['topics']}],\n",
    "            columns=['id', 'department', 'title', 'content', 'excerpt', 'createdAt', \n",
    "                     'updatedAt', 'forumName', 'forumAlias','gender', 'topics '])\n",
    "              )\n",
    "    except:\n",
    "        print('data error...',i,'J:',j)\n",
    "        return(pd.DataFrame(\n",
    "            data=\n",
    "            [{'id':\"\",\n",
    "              'department':\"\",    #for author\n",
    "              'title':\"\",\n",
    "              'content':\"\",\n",
    "              'excerpt':\"\",\n",
    "              'createdAt':\"\",\n",
    "              'updatedAt': \"\",\n",
    "              'forumName':\"\",\n",
    "              'forumAlias':\"\",\n",
    "              'gender':\"\",\n",
    "              'topics':\"\"}],\n",
    "            columns=['id', 'department', 'title', 'content', 'excerpt', 'createdAt', \n",
    "                     'updatedAt', 'forumName', 'forumAlias','gender', 'topics '])\n",
    "              )"
   ]
  },
  {
   "cell_type": "code",
   "execution_count": null,
   "metadata": {},
   "outputs": [],
   "source": [
    "# 熱門美妝版測試 (100筆)\n",
    "url = 'https://www.dcard.tw/@dva.x_x'\n",
    "#url = 'http://dcard.tw/_api/forums/makeup/posts?popular=true&limit=5'\n",
    "resq = requests.get(url)\n",
    "rejs = resq.json()\n",
    "df = pd.DataFrame()\n",
    "for i in range(len(rejs)):\n",
    "    df = df.append(CatchUser(rejs[i]['id']),ignore_index=True)   #0 - 29\n",
    "print(df.shape)\n",
    "#df.to_csv('data/Op_Dcard_markeup.csv', index=False)\n",
    "df\n",
    "# 99\t235031315\t#請益 #問 LA girl 遮瑕挑色\n",
    "# 235066991"
   ]
  },
  {
   "cell_type": "code",
   "execution_count": null,
   "metadata": {},
   "outputs": [],
   "source": [
    "import random\n",
    "import time\n",
    "\n",
    "url = \"http://dcard.tw/_api/forums/makeup/posts?popular=false&limit=1\"\n",
    "resq = requests.get(url)\n",
    "rejs = resq.json()\n",
    "df = pd.DataFrame()\n",
    "df = df.append(CatchUser(rejs[0]['id']),ignore_index=True) \n",
    "#df\n",
    "print(str(int(df['id'].tail(1))) )\n",
    "\n",
    "count = 0\n",
    "delay_choices = [1, 3, 5]  # delay second\n",
    "delay = random.choice(delay_choices) \n",
    "\n",
    "for j in range(1):\n",
    "    last = str(int(df['id'].tail(1))) # 找出爬出資料的最後一筆ID\n",
    "    print(last)\n",
    "    url = \"https://www.dcard.tw/_api/forums/makeup/posts?popular=false&limit=100&before=\" + last\n",
    "    resq = requests.get(url)\n",
    "    rejs = resq.json()\n",
    "    for i in range(len(rejs)):\n",
    "        df = df.append(Catch(rejs[i]['id']), ignore_index=True)\n",
    "        count = count+1\n",
    "        print('data reading...',count,'id:',rejs[i]['id'],rejs[i]['title'])\n",
    "    delay = random.choice(delay_choices)\n",
    "    time.sleep(delay)  \n",
    "df.to_csv('data/Op_Dcard_markeup.csv', index=False)\n",
    "print(df.shape)\n",
    "df"
   ]
  },
  {
   "cell_type": "code",
   "execution_count": null,
   "metadata": {},
   "outputs": [],
   "source": [
    "# slope the title\n",
    "def CatchPost(num):\n",
    "    try:\n",
    "        url = 'https://www.dcard.tw/_api/posts/'+str(num)  #api post with ID\n",
    "        resq = requests.get(url)\n",
    "        rejs = resq.json()\n",
    "        return(pd.DataFrame(\n",
    "            data=\n",
    "            [{'id':rejs['id'],\n",
    "              'title':rejs['title'],\n",
    "              'content':rejs['content'],\n",
    "              'excerpt':rejs['excerpt'],\n",
    "              'createdAt':rejs['createdAt'],\n",
    "              'updatedAt': rejs['updatedAt' ],\n",
    "              'forumName':rejs['forumName'],\n",
    "              'forumAlias':rejs['forumAlias'],\n",
    "              'gender':rejs['gender'],\n",
    "              'topics':rejs['topics']}],\n",
    "            columns=['id', 'title', 'content', 'excerpt', 'createdAt', \n",
    "                     'updatedAt', 'forumName', 'forumAlias','gender', 'topics '])\n",
    "              )\n",
    "    except:\n",
    "        print('data error...',i,'J:',j)\n",
    "        return(pd.DataFrame(\n",
    "            data=\n",
    "            [{'id':\"\",\n",
    "              'title':\"\",\n",
    "              'content':\"\",\n",
    "              'excerpt':\"\",\n",
    "              'createdAt':\"\",\n",
    "              'updatedAt': \"\",\n",
    "              'forumName':\"\",\n",
    "              'forumAlias':\"\",\n",
    "              'gender':\"\",\n",
    "              'topics':\"\"}],\n",
    "            columns=['id', 'title', 'content', 'excerpt', 'createdAt', \n",
    "                     'updatedAt', 'forumName', 'forumAlias','gender', 'topics '])\n",
    "              )"
   ]
  },
  {
   "cell_type": "code",
   "execution_count": null,
   "metadata": {
    "scrolled": false
   },
   "outputs": [],
   "source": [
    "#CatchPost(234999065)\n",
    "#url = 'https://www.dcard.tw/_api/posts/'+str(num)  #api post with ID\n",
    "url = 'https://www.dcard.tw/_api/posts/235103419'\n",
    "resq = requests.get(url)\n",
    "rejs = resq.json()\n",
    "rejs"
   ]
  },
  {
   "cell_type": "code",
   "execution_count": null,
   "metadata": {},
   "outputs": [],
   "source": [
    "url = 'https://www.dcard.tw/_api/posts/234912821'\n",
    "resq = requests.get(url)\n",
    "rejs = resq.json()\n",
    "rejs"
   ]
  },
  {
   "cell_type": "code",
   "execution_count": null,
   "metadata": {},
   "outputs": [],
   "source": [
    "# url = 'https://www.dcard.tw/_api/posts/235103302'\n",
    "resq = requests.get(url)\n",
    "rejs = resq.json()\n",
    "rejs"
   ]
  },
  {
   "cell_type": "markdown",
   "metadata": {},
   "source": [
    "# --------------- dva.x_x 版本分隔線 ---------------\n",
    "- 測試版本代號：Jerry 1.0\n",
    "- 開發人員： Jerry\n"
   ]
  },
  {
   "cell_type": "code",
   "execution_count": null,
   "metadata": {},
   "outputs": [],
   "source": []
  },
  {
   "cell_type": "code",
   "execution_count": null,
   "metadata": {},
   "outputs": [],
   "source": []
  },
  {
   "cell_type": "code",
   "execution_count": null,
   "metadata": {},
   "outputs": [],
   "source": []
  },
  {
   "cell_type": "code",
   "execution_count": null,
   "metadata": {},
   "outputs": [],
   "source": []
  },
  {
   "cell_type": "code",
   "execution_count": null,
   "metadata": {},
   "outputs": [],
   "source": []
  },
  {
   "cell_type": "code",
   "execution_count": null,
   "metadata": {},
   "outputs": [],
   "source": []
  },
  {
   "cell_type": "code",
   "execution_count": null,
   "metadata": {},
   "outputs": [],
   "source": [
    "#test = open(\"data/test.txt\",\"w\",encoding='UTF-8')"
   ]
  },
  {
   "cell_type": "code",
   "execution_count": null,
   "metadata": {},
   "outputs": [],
   "source": [
    "# asb\n",
    "import random\n",
    "import time\n",
    "\n",
    "url = \"http://dcard.tw/_api/forums/makeup/posts?popular=true&limit=99\"\n",
    "resq = requests.get(url)\n",
    "rejs = resq.json()\n",
    "df = pd.DataFrame()\n",
    "df = df.append(Catch(rejs[0]['id']),ignore_index=True)   #0 - 29\n",
    "\n",
    "delay_choices = [1]#, 3, 5, 7,20]  #延遲的秒數\n",
    "delay = random.choice(delay_choices)  #隨機選取秒數\n",
    "\n",
    "for j in range(10):\n",
    "    last = str(int(df['id'].tail(1))) # 找出爬出資料的最後一筆ID\n",
    "    url = \"https://www.dcard.tw/_api/forums/makeup/posts?popular=true&limit=99&before=\" + last\n",
    "    resq = requests.get(url)\n",
    "    rejs = resq.json()\n",
    "    for i in range(len(rejs)):\n",
    "        df = df.append(Catch(rejs[i]['id']), ignore_index=True)\n",
    "        if i % 101 == 0:\n",
    "            print('第',j,'次執行，data reading...',i,'last',last,'chocice',delay)\n",
    "    delay = random.choice(delay_choices)  #隨機選取秒數\n",
    "    time.sleep(delay)  #延遲\n",
    "\n",
    "df.to_csv('data/Op_Dcard_markeup.csv', index=False)\n",
    "print(df.shape)\n",
    "df"
   ]
  },
  {
   "cell_type": "code",
   "execution_count": null,
   "metadata": {
    "scrolled": true
   },
   "outputs": [],
   "source": [
    "# 熱門美妝版測試 (100筆)\n",
    "url = 'http://dcard.tw/_api/forums/makeup/posts?popular=true&limit=100'\n",
    "resq = requests.get(url)\n",
    "rejs = resq.json()\n",
    "df = pd.DataFrame()\n",
    "for i in range(len(rejs)):\n",
    "    df = df.append(Catch(rejs[i]['id']),ignore_index=True)   #0 - 29\n",
    "    if i % 20 == 0:\n",
    "        print('data reading...',i)\n",
    "print(df.shape)\n",
    "df.to_csv('data/Op_Dcard_markeup.csv', index=False)\n",
    "df\n",
    "# 99\t235031315\t#請益 #問 LA girl 遮瑕挑色\n",
    "# 235066991"
   ]
  },
  {
   "cell_type": "code",
   "execution_count": null,
   "metadata": {
    "scrolled": true
   },
   "outputs": [],
   "source": [
    "#last = str(int(df['ID'].tail(1))) #last dt\n",
    "#last"
   ]
  },
  {
   "cell_type": "code",
   "execution_count": null,
   "metadata": {},
   "outputs": [],
   "source": [
    "# 透過迴圈讀取10*100篇文章，若需讀取更多資料，可以將range(10)中的數值提升\n",
    "for j in range(10):\n",
    "    last = str(int(df['ID'].tail(1))) # 找出爬出資料的最後一筆ID\n",
    "    url = 'https://www.dcard.tw/_api/posts?popular=true&before=' + last\n",
    "    #url = 'https://www.dcard.tw/_api/posts?popular=true&limit=100&before=' + last\n",
    "    resq = requests.get(url)\n",
    "    rejs = resq.json()\n",
    "    for i in range(len(rejs)):\n",
    "        df = df.append(Catch(rejs[i]['id']), ignore_index=True)\n",
    "        if i % 10 == 0:\n",
    "            print('第',j,'次執行，data reading...',i)\n",
    "            \n",
    "print(df.shape)\n",
    "df"
   ]
  },
  {
   "cell_type": "code",
   "execution_count": null,
   "metadata": {},
   "outputs": [],
   "source": [
    "last = str(int(df['ID'].tail(1)))\n",
    "url = 'http://dcard.tw/_api/forums/makeup/posts?popular=true&limit=100&before=' + last\n",
    "resq = requests.get(url)\n",
    "rejs = resq.json()\n",
    "df = pd.DataFrame()\n",
    "df"
   ]
  },
  {
   "cell_type": "code",
   "execution_count": null,
   "metadata": {},
   "outputs": [],
   "source": [
    "# 熱門美妝版測試 (100筆)\n",
    "\n",
    "for i in range(10):\n",
    "    last = str(int(df['ID'].tail(1)))\n",
    "    url = 'http://dcard.tw/_api/forums/makeup/posts?popular=true&limit=100&before=' + last\n",
    "    resq = requests.get(url)\n",
    "    rejs = resq.json()\n",
    "    df = pd.DataFrame()\n",
    "    for i in range(len(rejs)):\n",
    "        df = df.append(Catch(rejs[i]['id']),ignore_index=True)\n",
    "        if i % 20 == 0:\n",
    "            print('data reading...',i)\n",
    "    print(df.shape)\n",
    "\n",
    "df.to_csv('data/Op_Dcard_markeup.csv', index=False)\n",
    "df\n",
    "\n",
    "# 99\t235031315\t#請益 #問 LA girl 遮瑕挑色"
   ]
  },
  {
   "cell_type": "code",
   "execution_count": null,
   "metadata": {
    "scrolled": true
   },
   "outputs": [],
   "source": [
    "last = str(int(df.tail(1).ID)) # 找出爬出資料的最後一筆ID '235031315'\n",
    "url = 'http://dcard.tw/_api/forums/makeup/posts?popular=true&limit=100&before=' + last\n",
    "resq = requests.get(url)\n",
    "rejs = resq.json()\n",
    "for i in range(len(rejs)):\n",
    "    df = df.append(Catch(rejs[i]['id']), ignore_index=True)\n",
    "print(df.shape)\n",
    "\n",
    "\n",
    "df"
   ]
  },
  {
   "cell_type": "code",
   "execution_count": null,
   "metadata": {},
   "outputs": [],
   "source": [
    "\n",
    "#df"
   ]
  },
  {
   "cell_type": "code",
   "execution_count": null,
   "metadata": {},
   "outputs": [],
   "source": [
    "##ok ^\n",
    "for j in range(3):\n",
    "    last = str(int(df.tail(1).ID)) # 找出爬出資料的最後一筆ID\n",
    "    url = 'http://dcard.tw/_api/forums/makeup/posts?popular=true&limit=100&before=' + last\n",
    "    resq = requests.get(url)\n",
    "    rejs = resq.json()\n",
    "    for i in range(len(rejs)):\n",
    "        df = df.append(Catch(rejs[i]['id']), ignore_index=True)\n",
    "print(df.shape)\n",
    "#df"
   ]
  },
  {
   "cell_type": "code",
   "execution_count": null,
   "metadata": {},
   "outputs": [],
   "source": [
    "# 透過迴圈讀取10*100篇文章，若需讀取更多資料，可以將range(10)中的數值提升\n",
    "for j in range(10):\n",
    "    last = str(int(df.tail(1).ID)) # 找出爬出資料的最後一筆ID\n",
    "    url = 'http://dcard.tw/_api/forums/makeup/posts?popular=true&limit=100&before=' + last\n",
    "    resq = requests.get(url)\n",
    "    rejs = resq.json()\n",
    "    for i in range(len(rejs)):\n",
    "        df = df.append(Catch(rejs[i]['id']), ignore_index=True)\n",
    "        if i % 20 == 0:\n",
    "            print('data reading...',i)\n",
    "print(df.shape)\n",
    "df\n"
   ]
  },
  {
   "cell_type": "code",
   "execution_count": null,
   "metadata": {},
   "outputs": [],
   "source": [
    "df.to_excel('data/Dcard_markeup.excel', index=False)"
   ]
  },
  {
   "cell_type": "markdown",
   "metadata": {},
   "source": [
    "欄位\t說明\t備註\n",
    "ID\t編號\t\n",
    "title\t標題\t\n",
    "content\t內容\t\n",
    "excerpt\t摘要\t\n",
    "createdAt\t發布時間\t\n",
    "updatedAt\t更新時間\t\n",
    "commentCount\t留言數\t\n",
    "forumName\t分類\t中文\n",
    "forumAlias\t分類\t英文\n",
    "gender\t性別\t\n",
    "likeCount\t心情數量\t\n",
    "reactions\t心情細項\t把以上心情細分為「愛心」、「哈哈」、「跪」、「森77」、「驚訝」等類型\n",
    "topics\t標籤\t"
   ]
  },
  {
   "cell_type": "code",
   "execution_count": null,
   "metadata": {},
   "outputs": [],
   "source": [
    "# 固定碼測試\n",
    "def Catch_test(ID):\n",
    "    url = 'https://www.dcard.tw/_api/posts/'+str(ID)\n",
    "    requ = requests.get(url)\n",
    "    rejs = requ.json()\n",
    "    #rejs\n",
    "    return(pd.DataFrame(\n",
    "        data=\n",
    "        [{'ID':rejs['id'],\n",
    "          'title':rejs['title'],\n",
    "          'content':rejs['content'],\n",
    "          'excerpt':rejs['excerpt'],\n",
    "          'createdAt':rejs['createdAt'],\n",
    "          'updatedAt': rejs['updatedAt' ],\n",
    "          'forumName':rejs['forumName'],\n",
    "          'forumAlias':rejs['forumAlias'],\n",
    "          'gender':rejs['gender'],\n",
    "          'topics':rejs['topics']}],\n",
    "        columns=['ID', 'title', 'content', 'excerpt', 'createdAt', \n",
    "                 'updatedAt', 'forumName', 'forumAlias','gender', 'topics '])\n",
    "          )\n",
    "Catch_test(235020702)"
   ]
  }
 ],
 "metadata": {
  "kernelspec": {
   "display_name": "Python 3",
   "language": "python",
   "name": "python3"
  },
  "language_info": {
   "codemirror_mode": {
    "name": "ipython",
    "version": 3
   },
   "file_extension": ".py",
   "mimetype": "text/x-python",
   "name": "python",
   "nbconvert_exporter": "python",
   "pygments_lexer": "ipython3",
   "version": "3.8.5"
  }
 },
 "nbformat": 4,
 "nbformat_minor": 4
}
